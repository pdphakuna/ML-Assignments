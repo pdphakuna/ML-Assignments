{
 "cells": [
  {
   "cell_type": "markdown",
   "metadata": {},
   "source": []
  },
  {
   "cell_type": "markdown",
   "metadata": {},
   "source": [
    "#### Task 1: Question 2"
   ]
  },
  {
   "cell_type": "code",
   "execution_count": 6,
   "metadata": {
    "collapsed": false
   },
   "outputs": [
    {
     "name": "stdout",
     "output_type": "stream",
     "text": [
      "[2002, 2009, 2016, 2023, 2037, 2044, 2051, 2058, 2072, 2079, 2086, 2093, 2107, 2114, 2121, 2128, 2142, 2149, 2156, 2163, 2177, 2184, 2191, 2198, 2212, 2219, 2226, 2233, 2247, 2254, 2261, 2268, 2282, 2289, 2296, 2303, 2317, 2324, 2331, 2338, 2352, 2359, 2366, 2373, 2387, 2394, 2401, 2408, 2422, 2429, 2436, 2443, 2457, 2464, 2471, 2478, 2492, 2499, 2506, 2513, 2527, 2534, 2541, 2548, 2562, 2569, 2576, 2583, 2597, 2604, 2611, 2618, 2632, 2639, 2646, 2653, 2667, 2674, 2681, 2688, 2702, 2709, 2716, 2723, 2737, 2744, 2751, 2758, 2772, 2779, 2786, 2793, 2807, 2814, 2821, 2828, 2842, 2849, 2856, 2863, 2877, 2884, 2891, 2898, 2912, 2919, 2926, 2933, 2947, 2954, 2961, 2968, 2982, 2989, 2996, 3003, 3017, 3024, 3031, 3038, 3052, 3059, 3066, 3073, 3087, 3094, 3101, 3108, 3122, 3129, 3136, 3143, 3157, 3164, 3171, 3178, 3192, 3199]\n"
     ]
    }
   ],
   "source": [
    "num1= 2000\n",
    "num2= 3200\n",
    "num_list= []\n",
    "\n",
    "for i in range(num1,num2) :\n",
    "    if i%7 == 0 and i%5 != 0:\n",
    "        num_list.append(i)\n",
    "        i+=1\n",
    "    else:\n",
    "        i+=1\n",
    "        \n",
    "print(num_list)\n",
    "        "
   ]
  },
  {
   "cell_type": "markdown",
   "metadata": {},
   "source": [
    "#### Task 1 Question 3"
   ]
  },
  {
   "cell_type": "code",
   "execution_count": 7,
   "metadata": {
    "collapsed": false
   },
   "outputs": [
    {
     "name": "stdout",
     "output_type": "stream",
     "text": [
      "Please enter your first name:Ishan\n",
      "Please enter your last name:Kulkarni\n",
      "Kulkarni Ishan\n"
     ]
    }
   ],
   "source": [
    "first_name= input(\"Please enter your first name:\")\n",
    "last_name= input(\"Please enter your last name:\")\n",
    "\n",
    "print(last_name+\" \"+first_name)"
   ]
  },
  {
   "cell_type": "markdown",
   "metadata": {},
   "source": [
    "#### Task 1 Question 4"
   ]
  },
  {
   "cell_type": "code",
   "execution_count": 18,
   "metadata": {
    "collapsed": false
   },
   "outputs": [
    {
     "name": "stdout",
     "output_type": "stream",
     "text": [
      "Volume = 7238.229473870882 cm^3\n"
     ]
    }
   ],
   "source": [
    "import math\n",
    "r= 12\n",
    "Vol = (4/3)*(math.pi)*(r)**3\n",
    "print(\"Volume = \"+ str(Vol) + \" cm^3\")"
   ]
  },
  {
   "cell_type": "markdown",
   "metadata": {},
   "source": [
    "#### Task 2 Question 1"
   ]
  },
  {
   "cell_type": "code",
   "execution_count": 22,
   "metadata": {
    "collapsed": false
   },
   "outputs": [
    {
     "name": "stdout",
     "output_type": "stream",
     "text": [
      "Please enter a sequence of numbers:246,4,6209,5\n",
      "List=  ['246', '4', '6209', '5']\n"
     ]
    }
   ],
   "source": [
    "input_list= input(\"Please enter a sequence of numbers:\")\n",
    "\n",
    "lst = str(input_list).split(\",\")\n",
    "print(\"List= \",lst)"
   ]
  },
  {
   "cell_type": "markdown",
   "metadata": {},
   "source": [
    "#### Task 2 Question 2"
   ]
  },
  {
   "cell_type": "code",
   "execution_count": 66,
   "metadata": {
    "collapsed": false
   },
   "outputs": [
    {
     "name": "stdout",
     "output_type": "stream",
     "text": [
      "*\n",
      "**\n",
      "***\n",
      "****\n",
      "*****\n",
      "****\n",
      "***\n",
      "**\n",
      "*\n"
     ]
    }
   ],
   "source": [
    "star = \"*\"\n",
    "b= 1\n",
    "num_star = []\n",
    "for s in range (1,10):\n",
    "    if s <= 5:\n",
    "        num_star.append(s)\n",
    "        s+=1\n",
    "    elif s > 5:\n",
    "        n = s-(2*b)\n",
    "        b+=1\n",
    "        s+=1\n",
    "        num_star.append(n)\n",
    "#print(num_star)\n",
    "\n",
    "\n",
    "for index, value in enumerate(num_star):\n",
    "   \n",
    "    print(star*value)\n"
   ]
  },
  {
   "cell_type": "markdown",
   "metadata": {},
   "source": [
    "#### Task 2 Question 3"
   ]
  },
  {
   "cell_type": "code",
   "execution_count": 51,
   "metadata": {
    "collapsed": false
   },
   "outputs": [
    {
     "name": "stdout",
     "output_type": "stream",
     "text": [
      "Please enter string:AcadGild\n",
      "dliGdacA\n"
     ]
    }
   ],
   "source": [
    "str = input(\"Please enter string:\")\n",
    "\n",
    "print(str[::-1])"
   ]
  },
  {
   "cell_type": "markdown",
   "metadata": {},
   "source": [
    "#### Task 2 Question 4"
   ]
  },
  {
   "cell_type": "code",
   "execution_count": 63,
   "metadata": {
    "collapsed": false
   },
   "outputs": [
    {
     "name": "stdout",
     "output_type": "stream",
     "text": [
      "WE, THE PEOPLE OF INDIA,\n",
      "\t having solemnly resolved to constitute India into a SOVEREIGN,!\n",
      "\t\t SOCIALIST, SECULAR, DEMOCRATIC REPUBLIC \n",
      "\t\t  and to secure to all its citizens\n"
     ]
    }
   ],
   "source": [
    "print(\"WE, THE PEOPLE OF INDIA,\\n\\t having solemnly resolved to constitute India into a SOVEREIGN,!\\n\\t\\t SOCIALIST, SECULAR, DEMOCRATIC REPUBLIC \\n\\t\\t  and to secure to all its citizens\")"
   ]
  },
  {
   "cell_type": "code",
   "execution_count": null,
   "metadata": {
    "collapsed": true
   },
   "outputs": [],
   "source": []
  }
 ],
 "metadata": {
  "anaconda-cloud": {},
  "kernelspec": {
   "display_name": "Python [default]",
   "language": "python",
   "name": "python3"
  },
  "language_info": {
   "codemirror_mode": {
    "name": "ipython",
    "version": 3
   },
   "file_extension": ".py",
   "mimetype": "text/x-python",
   "name": "python",
   "nbconvert_exporter": "python",
   "pygments_lexer": "ipython3",
   "version": "3.5.2"
  }
 },
 "nbformat": 4,
 "nbformat_minor": 1
}
